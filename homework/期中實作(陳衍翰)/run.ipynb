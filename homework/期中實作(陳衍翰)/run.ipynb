{
  "cells": [
    {
      "cell_type": "code",
      "execution_count": 1,
      "metadata": {
        "id": "Bboc660Bmf2v"
      },
      "outputs": [],
      "source": [
        "import tensorflow as tf\n",
        "\n",
        "gpus = tf.config.experimental.list_physical_devices('GPU')\n",
        "if gpus:\n",
        "    try:\n",
        "        for gpu in gpus:\n",
        "            tf.config.experimental.set_memory_growth(gpu, True)\n",
        "            \n",
        "    except RuntimeError as e:\n",
        "        print(e)\n",
        "\n",
        "#from helpers import load_config\n",
        "import json\n",
        "\n",
        "from sklearn.model_selection import train_test_split\n",
        "import string   \n",
        "import unicodedata\n",
        "import numpy as np\n",
        "import io\n",
        "import os\n",
        "from time import time\n",
        "\n",
        "import matplotlib.pyplot as plt\n",
        "import matplotlib.ticker as ticker"
      ]
    },
    {
      "cell_type": "code",
      "source": [
        "from google.colab import files\n",
        "files.upload()\n",
        "#__init__.py\n",
        "#files.py\n",
        "#config.json\n",
        "#fra-eng.zip\n",
        "#model.py"
      ],
      "metadata": {
        "id": "H0yFV39_xdXL"
      },
      "execution_count": null,
      "outputs": []
    },
    {
      "cell_type": "code",
      "execution_count": 3,
      "metadata": {
        "id": "-e2aKMkrmf2x"
      },
      "outputs": [],
      "source": [
        "def load_config(path):\n",
        "    with open(path, \"r\") as f:\n",
        "        config = json.loads(f.read())\n",
        "    return config\n",
        "config = load_config(\"config.json\")"
      ]
    },
    {
      "cell_type": "markdown",
      "metadata": {
        "id": "LQRQLq3cmf2y"
      },
      "source": [
        "# Downloading Data\n",
        "\n",
        "Install the data using keras's `get_file` function"
      ]
    },
    {
      "cell_type": "code",
      "execution_count": 4,
      "metadata": {
        "id": "jZjwNAEKmf2z",
        "colab": {
          "base_uri": "https://localhost:8080/"
        },
        "outputId": "f1ce2f5c-f299-4906-a1a4-f5787b6281b0"
      },
      "outputs": [
        {
          "output_type": "stream",
          "name": "stdout",
          "text": [
            "Downloading data from http://storage.googleapis.com/download.tensorflow.org/data/fra-eng.zip\n",
            "3423204/3423204 [==============================] - 0s 0us/step\n"
          ]
        }
      ],
      "source": [
        "dataset_params = config[\"dataset\"]\n",
        "path_to_zip = tf.keras.utils.get_file(os.path.join(os.getcwd(),\"fra-eng.zip\"), origin=dataset_params[\"url\"], extract=True)\n",
        "path_to_file = os.path.join(os.path.dirname(path_to_zip), \"fra.txt\")"
      ]
    },
    {
      "cell_type": "markdown",
      "metadata": {
        "id": "bEiPd79lmf2z"
      },
      "source": [
        "# Dataset\n",
        "\n",
        "For preprocessing, we will do the following:\n",
        "\n",
        "- Clean the sentences from special characters.\n",
        "- Add starting and ending tokens.\n",
        "- Create a vocabulary.\n",
        "- Pad each sentence to the maximum.\n",
        "- Batch and prefetch."
      ]
    },
    {
      "cell_type": "code",
      "execution_count": 5,
      "metadata": {
        "id": "qBkOm8msmf20"
      },
      "outputs": [],
      "source": [
        "def clean_sentence(sentence):\n",
        "    # make a space between each punctionation\n",
        "    sentence = sentence.translate(str.maketrans({key: \" {0} \".format(key) for key in string.punctuation}))\n",
        "    \n",
        "    sentence = sentence.strip()  # remove spaces\n",
        "    return sentence\n",
        "\n",
        "def preprocess_a_sentence(sentence):\n",
        "    # clean it\n",
        "    sentence = clean_sentence(sentence)\n",
        "    # add the start and end of sequences\n",
        "    return '<sos> {} <eos>'.format(sentence)\n",
        "\n",
        "def load_dataset(path, num_examples=None):\n",
        "    with open(path, encoding='utf-8') as f:\n",
        "        lines = f.read().strip().split(\"\\n\")\n",
        "    # list containing a set of (input, output)\n",
        "    sentence_pairs = [[preprocess_a_sentence(sen) for sen in line.split('\\t')]  for line in lines[:num_examples]]\n",
        "    return zip(*sentence_pairs)"
      ]
    },
    {
      "cell_type": "code",
      "execution_count": 6,
      "metadata": {
        "id": "YbCx61wQmf20",
        "outputId": "2669505e-b252-4342-93af-44b864ac9b6d",
        "colab": {
          "base_uri": "https://localhost:8080/"
        }
      },
      "outputs": [
        {
          "output_type": "stream",
          "name": "stdout",
          "text": [
            "<sos> Go . <eos> <sos> Va  ! <eos>\n"
          ]
        }
      ],
      "source": [
        "en, fr = load_dataset('fra.txt')\n",
        "#直接讀檔案\n",
        "print(en[0], fr[0])"
      ]
    },
    {
      "cell_type": "code",
      "execution_count": 7,
      "metadata": {
        "id": "SQCQtBjemf21"
      },
      "outputs": [],
      "source": [
        "def get_tokenizer(lang):\n",
        "    \n",
        "    # we are keeping the punctionation\n",
        "    tokenizer = tf.keras.preprocessing.text.Tokenizer(filters='’,?!\"#$%&()*+-/:;=.@[\\\\]^_`{|}~\\t\\n')\n",
        "    tokenizer.fit_on_texts(lang)\n",
        "    \n",
        "    sequences = tokenizer.texts_to_sequences(lang)\n",
        "    # pad the tensors\n",
        "    sequences = tf.keras.preprocessing.sequence.pad_sequences(sequences, padding=\"post\")\n",
        "    return sequences, tokenizer\n",
        "\n",
        "def create_dataset(X, y, batch_size=None, buffer=False, prefetch=tf.data.experimental.AUTOTUNE):\n",
        "    a_set = tf.data.Dataset.from_tensor_slices((X, y))\n",
        "    if buffer:\n",
        "        a_set = a_set.shuffle(X.shape[0])\n",
        "    if batch_size is not None:\n",
        "        a_set = a_set.batch(batch_size, drop_remainder=True)\n",
        "    return a_set.prefetch(prefetch)\n",
        "\n",
        "def dataset(path, batch_size, num_examples=None, prefetch=tf.data.experimental.AUTOTUNE, test_size=0.2):\n",
        "    target_lang, input_lang = load_dataset(path, num_examples=num_examples)\n",
        "    \n",
        "    input_sequences, input_tokenizer = get_tokenizer(input_lang)\n",
        "    target_sequences, target_tokenizer = get_tokenizer(target_lang)\n",
        "    \n",
        "    input_train_seq, input_test_seq, target_train_seq, target_test_seq = train_test_split(input_sequences, \n",
        "                                                                                          target_sequences, \n",
        "                                                                                          test_size=test_size)\n",
        "    \n",
        "    train_set = create_dataset(input_train_seq, target_train_seq, \n",
        "                               batch_size=batch_size, buffer=True,\n",
        "                               prefetch=prefetch)\n",
        "    test_set = create_dataset(input_test_seq, target_test_seq, prefetch=prefetch)\n",
        "    return train_set, test_set, input_train_seq.shape[0], input_tokenizer, target_tokenizer"
      ]
    },
    {
      "cell_type": "code",
      "execution_count": 8,
      "metadata": {
        "id": "tv-RAcivmf22"
      },
      "outputs": [],
      "source": [
        "batch_size = dataset_params[\"batch_size\"]\n",
        "num_examples = dataset_params[\"num_examples\"]\n",
        "train_set, test_set, train_size, input_tokenizer, target_tokenizer = dataset(path_to_file, batch_size, num_examples=num_examples)"
      ]
    },
    {
      "cell_type": "markdown",
      "metadata": {
        "id": "KNhr8iJ8mf22"
      },
      "source": [
        "# Build Model"
      ]
    },
    {
      "cell_type": "code",
      "execution_count": 9,
      "metadata": {
        "id": "mVwXSzJNmf23"
      },
      "outputs": [],
      "source": [
        "from model import Encoder, Decoder"
      ]
    },
    {
      "cell_type": "markdown",
      "metadata": {
        "id": "J-kANAJrmf23"
      },
      "source": [
        "## Set params"
      ]
    },
    {
      "cell_type": "code",
      "execution_count": 10,
      "metadata": {
        "id": "7HJWsYcrmf23"
      },
      "outputs": [],
      "source": [
        "model_params = config[\"model\"]\n",
        "\n",
        "epochs = model_params[\"epochs\"]\n",
        "embedding_dim = model_params[\"embedding_dim\"]\n",
        "units = model_params[\"units\"]\n",
        "bidirectional = model_params[\"bidirectional\"]\n",
        "\n",
        "steps_per_epoch = train_size // batch_size\n",
        "input_vocab_size = len(input_tokenizer.word_index) + 1\n",
        "target_vocab_size = len(target_tokenizer.word_index) + 1"
      ]
    },
    {
      "cell_type": "code",
      "execution_count": 11,
      "metadata": {
        "id": "KNboRWCvmf24"
      },
      "outputs": [],
      "source": [
        "encoder = Encoder(input_vocab_size, embedding_dim, units, bidirectional=bidirectional)\n",
        "decoder = Decoder(target_vocab_size, embedding_dim, units, bidirectional=bidirectional)"
      ]
    },
    {
      "cell_type": "markdown",
      "metadata": {
        "id": "j2yHPGTGmf24"
      },
      "source": [
        "## Compile Model"
      ]
    },
    {
      "cell_type": "code",
      "execution_count": 12,
      "metadata": {
        "id": "3NqLIzjLmf24"
      },
      "outputs": [],
      "source": [
        "optimizer = tf.keras.optimizers.Nadam()\n",
        "\n",
        "loss_object = tf.keras.losses.SparseCategoricalCrossentropy()\n",
        "\n",
        "train_loss = tf.keras.metrics.Mean(name='train_loss')\n",
        "\n",
        "def loss_function(real, pred):\n",
        "    # set mask True to everywhere but zero (zero is the padding)\n",
        "    mask = tf.math.logical_not(tf.math.equal(real, 0))\n",
        "    loss_ = loss_object(real, pred)\n",
        "\n",
        "    mask = tf.cast(mask, dtype=loss_.dtype)\n",
        "    loss_ *= mask\n",
        "\n",
        "    return tf.reduce_mean(loss_)"
      ]
    },
    {
      "cell_type": "markdown",
      "metadata": {
        "id": "ugNYu66Nmf24"
      },
      "source": [
        "# Training\n",
        "\n",
        "The training's steps are:\n",
        "\n",
        "1. Pass the input through the encoder and get the encoder's outputs and the states.\n",
        "\n",
        "2. The encoder output and hidden states and the decoder state's is passed to the decoder.\n",
        "\n",
        "3. We feed the encoder's input, state and token to decoder:\n",
        "    - The decoder will spit the output and hidden state\n",
        "    - The decoder hidden state is then passed back into the model and the predictions are used to calculate the loss.\n",
        "    - Use Teacher Forcing to decide the next input to the decoder.\n",
        "    - Repeat for each time step in the decoder's input.\n",
        "4. The final step is to calculate the gradients and apply it to the optimizer and backpropagation"
      ]
    },
    {
      "cell_type": "code",
      "execution_count": 13,
      "metadata": {
        "id": "LgOJ4qC4mf24"
      },
      "outputs": [],
      "source": [
        "@tf.function\n",
        "def train_step(X, y):\n",
        "    loss = 0\n",
        "    batch_size = X.shape[0]\n",
        "    \n",
        "    with tf.GradientTape() as tape:\n",
        "        enc_output, enc_hidden = encoder(X)\n",
        "        \n",
        "        dec_hidden = enc_hidden\n",
        "        # target input at the begining should only be <start>\n",
        "        dec_input = tf.expand_dims([target_tokenizer.word_index['<sos>']] * batch_size, 1)\n",
        "        \n",
        "        for t in range(1, y.shape[1]): # starting from 1 as we created the <start> above.\n",
        "            predictions, dec_hidden, _ = decoder(dec_input, dec_hidden, enc_output)\n",
        "            \n",
        "            loss += loss_function(y[:, t], predictions)  # compute the loss based on the predictions\n",
        "            \n",
        "            # using teacher forcing\n",
        "            dec_input = tf.expand_dims(y[:, t], 1)  # here we give the actual target and not the predictions as input.\n",
        "    \n",
        "    total_loss = (loss / int(y.shape[1]))  # take the average of all steps.\n",
        "    variables = encoder.trainable_variables + decoder.trainable_variables\n",
        "    gradients = tape.gradient(loss, variables)\n",
        "    optimizer.apply_gradients(zip(gradients, variables))\n",
        "    return total_loss"
      ]
    },
    {
      "cell_type": "code",
      "execution_count": 14,
      "metadata": {
        "id": "6mDeSTAImf25"
      },
      "outputs": [],
      "source": [
        "def progress_bar(iteration, total, size=30):\n",
        "    running = iteration < total\n",
        "    c = \">\" if running else \"=\"\n",
        "    p = (size - 1) * iteration // total\n",
        "    fmt = \"{{:-{}d}}/{{}} [{{}}]\".format(len(str(total)))\n",
        "    params = [iteration, total, \"=\" * p + c + \".\" * (size - p - 1)]\n",
        "    return fmt.format(*params)\n",
        "\n",
        "def print_status_bar(iteration, total, loss, metrics=None, size=30):\n",
        "    metrics = \" - \".join([\"{}: {:.4f}\".format(m.name, m.result())\n",
        "                         for m in [loss] + (metrics or [])])\n",
        "    end = \"\" if iteration < total else \"\\n\"\n",
        "    print(\"\\r{} - {}\".format(progress_bar(iteration, total), metrics), end=end)"
      ]
    },
    {
      "cell_type": "code",
      "execution_count": 15,
      "metadata": {
        "id": "TYs7K_xgmf25",
        "colab": {
          "base_uri": "https://localhost:8080/"
        },
        "outputId": "19fd8537-1ee3-4fee-f811-37be28f716d0"
      },
      "outputs": [
        {
          "output_type": "stream",
          "name": "stdout",
          "text": [
            "100519/100519 [==============================] - train_loss: 0.9719\n",
            "Time taken for 1 epoch 870.0072932243347 sec\n",
            "\n",
            "100519/100519 [==============================] - train_loss: 0.6952\n",
            "Time taken for 1 epoch 861.9197008609772 sec\n",
            "\n",
            "100519/100519 [==============================] - train_loss: 0.5455\n",
            "Time taken for 1 epoch 831.1698136329651 sec\n",
            "\n",
            "100519/100519 [==============================] - train_loss: 0.4476\n",
            "Time taken for 1 epoch 861.9173991680145 sec\n",
            "\n",
            "100519/100519 [==============================] - train_loss: 0.3791\n",
            "Time taken for 1 epoch 831.2585928440094 sec\n",
            "\n"
          ]
        }
      ],
      "source": [
        "for epoch in range(epochs):\n",
        "    \n",
        "    start = time()\n",
        "    \n",
        "    for (step, (X, y)) in enumerate(train_set.take(steps_per_epoch)):\n",
        "        loss = train_step(X, y)  # for each epoch, step, we are reseting the states (it is not stateful)\n",
        "        train_loss(loss)\n",
        "        \n",
        "        print_status_bar(step * batch_size, train_size, train_loss, None)\n",
        "        \n",
        "    print_status_bar(train_size, train_size, train_loss, None)\n",
        "    print('Time taken for 1 epoch {} sec\\n'.format(time() - start))"
      ]
    },
    {
      "cell_type": "markdown",
      "metadata": {
        "id": "cr2uZ184mf25"
      },
      "source": [
        "# Evaluation\n",
        "\n",
        "To evaluate and chek the performance of the model, we will do the following:\n",
        "\n",
        "- Write evaluation function for the test data (similar to training loop but without teacher forcing.\n",
        "- Stop predicting when the model predicts the end token\n",
        "- Store the attention weights fore very time step for visualization."
      ]
    },
    {
      "cell_type": "code",
      "execution_count": 16,
      "metadata": {
        "id": "t_MucvDbmf25"
      },
      "outputs": [],
      "source": [
        "def plot_attention(attention, sentence, predicted_sentence):\n",
        "    fig = plt.figure(figsize=(10,10))\n",
        "    ax = fig.add_subplot(1, 1, 1)\n",
        "    ax.matshow(attention, cmap='viridis')\n",
        "\n",
        "    fontdict = {'fontsize': 14}\n",
        "\n",
        "    ax.set_xticklabels([''] + sentence, fontdict=fontdict, rotation=90)\n",
        "    ax.set_yticklabels([''] + predicted_sentence, fontdict=fontdict)\n",
        "\n",
        "    ax.xaxis.set_major_locator(ticker.MultipleLocator(1))\n",
        "    ax.yaxis.set_major_locator(ticker.MultipleLocator(1))\n",
        "\n",
        "    plt.show()\n",
        "\n",
        "\n",
        "def evaluate(inputs, max_target_pad):\n",
        "    \n",
        "    attention_plot = np.zeros((max_target_pad, inputs.shape[0]))\n",
        "    \n",
        "    # convert from words to sequence\n",
        "    \n",
        "    result = []\n",
        "    \n",
        "    # running the encoder\n",
        "    enc_output, dec_hidden = encoder(tf.expand_dims(inputs, 0))\n",
        "    \n",
        "    dec_input = tf.expand_dims([target_tokenizer.word_index['<sos>']], 0)\n",
        "    \n",
        "    for t in range(max_target_pad):\n",
        "        predictions, dec_hidden, attention_weights = decoder(dec_input, dec_hidden, enc_output)\n",
        "        \n",
        "        # storing the attention weights to plot later on\n",
        "        attention_weights = tf.reshape(attention_weights, (-1, ))\n",
        "        attention_plot[t] = attention_weights.numpy()\n",
        "        \n",
        "        predicted_id = tf.argmax(predictions[0]).numpy()\n",
        "        predicted_word = target_tokenizer.index_word[predicted_id]\n",
        "        if predicted_word  == '<eos>':\n",
        "            return \" \".join(result), attention_plot\n",
        "        \n",
        "        result.append(predicted_word)\n",
        "        \n",
        "        # the predicted ID is fed back into the model\n",
        "        dec_input = tf.expand_dims([predicted_id], 0)\n",
        "        \n",
        "    return \" \".join(result), attention_plot\n",
        "\n",
        "\n",
        "def translate(X, y):\n",
        "    sentence = input_tokenizer.sequences_to_texts([X.numpy()])[0]\n",
        "    translation = target_tokenizer.sequences_to_texts([y.numpy()])[0]\n",
        "    result, attention_plot = evaluate(X, y.shape[0])\n",
        "\n",
        "    print('Input: %s' % (sentence))\n",
        "    print('Actual translation: %s' % (translation))\n",
        "    print('Predicted translation: %s '% (result))\n",
        "\n",
        "    attention_plot = attention_plot[:len(result.split(' ')), :len(sentence.split(' '))]\n",
        "    plot_attention(attention_plot, sentence.split(' '), result.split(' '))"
      ]
    },
    {
      "cell_type": "code",
      "execution_count": 19,
      "metadata": {
        "id": "OElkOo9Ymf26",
        "outputId": "696a8759-cb82-445c-86d2-b684cb538d52",
        "colab": {
          "base_uri": "https://localhost:8080/",
          "height": 1000
        }
      },
      "outputs": [
        {
          "output_type": "stream",
          "name": "stdout",
          "text": [
            "Input: <sos> monsieur le directeur est en déplacement <eos>\n",
            "Actual translation: <sos> the director is away on a trip <eos>\n",
            "Predicted translation: he is in the manager is growing \n"
          ]
        },
        {
          "output_type": "display_data",
          "data": {
            "text/plain": [
              "<Figure size 720x720 with 1 Axes>"
            ],
            "image/png": "[encoded data removed]"
          },
          "metadata": {
            "needs_background": "light"
          }
        },
        {
          "output_type": "stream",
          "name": "stdout",
          "text": [
            "Input: <sos> la vie est imprévisible <eos>\n",
            "Actual translation: <sos> life is unpredictable <eos>\n",
            "Predicted translation: life is worn out \n"
          ]
        },
        {
          "output_type": "display_data",
          "data": {
            "text/plain": [
              "<Figure size 720x720 with 1 Axes>"
            ],
            "image/png": "[encoded data removed]"
          },
          "metadata": {
            "needs_background": "light"
          }
        },
        {
          "output_type": "stream",
          "name": "stdout",
          "text": [
            "Input: <sos> il semble qu ' il se met à pleuvoir <eos>\n",
            "Actual translation: <sos> it looks like it ' s going to rain <eos>\n",
            "Predicted translation: it looks like it when it ' ll get raining at once \n"
          ]
        },
        {
          "output_type": "display_data",
          "data": {
            "text/plain": [
              "<Figure size 720x720 with 1 Axes>"
            ],
            "image/png": "[encoded data removed]"
          },
          "metadata": {
            "needs_background": "light"
          }
        },
        {
          "output_type": "stream",
          "name": "stdout",
          "text": [
            "Input: <sos> laisse moi faire mon travail <eos>\n",
            "Actual translation: <sos> let me do my job <eos>\n",
            "Predicted translation: let me do my job \n"
          ]
        },
        {
          "output_type": "display_data",
          "data": {
            "text/plain": [
              "<Figure size 720x720 with 1 Axes>"
            ],
            "image/png": "[encoded data removed]"
          },
          "metadata": {
            "needs_background": "light"
          }
        },
        {
          "output_type": "stream",
          "name": "stdout",
          "text": [
            "Input: <sos> l ' un est rouge l ' autre est blanc <eos>\n",
            "Actual translation: <sos> one is red and the other is white <eos>\n",
            "Predicted translation: one is red cross white \n"
          ]
        },
        {
          "output_type": "display_data",
          "data": {
            "text/plain": [
              "<Figure size 720x720 with 1 Axes>"
            ],
            "image/png": "[encoded data removed]"
          },
          "metadata": {
            "needs_background": "light"
          }
        }
      ],
      "source": [
        "for X, y in test_set.take(5):\n",
        "    translate(X, y)"
      ]
    },
    {
      "cell_type": "markdown",
      "metadata": {
        "id": "CNF3NLOnmf26"
      },
      "source": [
        "# To Dos\n",
        "\n",
        "- Use trained embedding instead of training one from scratch.\n",
        "- Use validation set during training and early exit."
      ]
    },
    {
      "cell_type": "markdown",
      "metadata": {
        "id": "DHqYofdNmf26"
      },
      "source": [
        "# References and Further Readings\n",
        "\n",
        "- [Neural Machine Translation by Jointly Learning to Align and Translate](https://arxiv.org/abs/1409.0473)\n",
        "- [Neural Machine Translation with Attention](https://www.tensorflow.org/tutorials/text/nmt_with_attention)\n",
        "- [Hands-on Machine Learning With Scikit-Learn, Keras & Tensorflow](https://github.com/ageron/handson-ml2)"
      ]
    },
    {
      "cell_type": "code",
      "execution_count": null,
      "metadata": {
        "id": "e2mZN7FZmf26"
      },
      "outputs": [],
      "source": []
    }
  ],
  "metadata": {
    "kernelspec": {
      "display_name": "Python 3",
      "language": "python",
      "name": "python3"
    },
    "language_info": {
      "codemirror_mode": {
        "name": "ipython",
        "version": 3
      },
      "file_extension": ".py",
      "mimetype": "text/x-python",
      "name": "python",
      "nbconvert_exporter": "python",
      "pygments_lexer": "ipython3",
      "version": "3.7.7"
    },
    "colab": {
      "provenance": [],
      "collapsed_sections": []
    },
    "accelerator": "GPU"
  },
  "nbformat": 4,
  "nbformat_minor": 0
}